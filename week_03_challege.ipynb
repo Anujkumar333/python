{
 "cells": [
  {
   "cell_type": "markdown",
   "id": "8e78f517",
   "metadata": {},
   "source": [
    "###  ques--1 print the even number with continue statement"
   ]
  },
  {
   "cell_type": "code",
   "execution_count": 1,
   "id": "93dd327b",
   "metadata": {},
   "outputs": [
    {
     "name": "stdout",
     "output_type": "stream",
     "text": [
      "enter the number where we end even number : 5\n",
      "2\n",
      "4\n"
     ]
    }
   ],
   "source": [
    "n=int(input(\"enter the number where we end even number : \"))\n",
    "for i in range(2,n+1,2):\n",
    "    if i==10:\n",
    "        continue\n",
    "    print(i)"
   ]
  },
  {
   "cell_type": "markdown",
   "id": "f9d22c26",
   "metadata": {},
   "source": [
    "##  ques --2 Write a python program to accept number from user and check the if it is prime or not\""
   ]
  },
  {
   "cell_type": "code",
   "execution_count": 2,
   "id": "4fadb8ca",
   "metadata": {},
   "outputs": [
    {
     "name": "stdout",
     "output_type": "stream",
     "text": [
      "12\n",
      "12  not is a prime number\n"
     ]
    }
   ],
   "source": [
    "n=int(input())\n",
    "if n > 1:\n",
    "    for i in range(2,n+1):\n",
    "        if (n%i) == 0:\n",
    "            print(n,\" not is a prime number\")\n",
    "            break\n",
    "    else:\n",
    "        print(n,\" is a prime number\")"
   ]
  },
  {
   "cell_type": "markdown",
   "id": "ebc81a11",
   "metadata": {},
   "source": [
    "### \" ques--3 Write a python program to print the first 10 numbers Fibonacci series\""
   ]
  },
  {
   "cell_type": "code",
   "execution_count": 3,
   "id": "cd65ce40",
   "metadata": {},
   "outputs": [
    {
     "name": "stdout",
     "output_type": "stream",
     "text": [
      "Fibonacci series\n",
      "0 1,1,2,3,5,8,13,21,34,"
     ]
    }
   ],
   "source": [
    "n1=0\n",
    "n2=1\n",
    "print(\"Fibonacci series\")\n",
    "print(n1, n2,end=\",\")\n",
    "for i in range(2, 10):\n",
    "    fseg= n1 + n2\n",
    "    print(fseg,end = \",\")\n",
    "    n1,n2= n2,fseg\n"
   ]
  },
  {
   "cell_type": "markdown",
   "id": "c5b49e39",
   "metadata": {},
   "source": [
    "### \" ques--4 Write a program to print the following series till terms 4,44,444china …..n terms"
   ]
  },
  {
   "cell_type": "code",
   "execution_count": 4,
   "id": "14e35e4f",
   "metadata": {},
   "outputs": [
    {
     "name": "stdout",
     "output_type": "stream",
     "text": [
      "4\n",
      "4\n",
      "44\n",
      "4444\n",
      "4444444\n"
     ]
    }
   ],
   "source": [
    "def print_series(n):\n",
    "    term = 4\n",
    "    i = 0\n",
    "    while i < n:\n",
    "        # Check if the current iteration count is less than n\n",
    "        if i < n:\n",
    "            print(term)\n",
    "            # Use a for loop to construct the next term\n",
    "            for _ in range(i):\n",
    "                term = term * 10 + 4\n",
    "        i += 1\n",
    "\n",
    "# Example usage: print the series up to 5 terms\n",
    "print_series(5)"
   ]
  },
  {
   "cell_type": "markdown",
   "id": "5fed856e",
   "metadata": {},
   "source": [
    "###  ques--5 Write a program to print multiplication table of 7 using break statement.\"\n"
   ]
  },
  {
   "cell_type": "code",
   "execution_count": 5,
   "id": "77547642",
   "metadata": {},
   "outputs": [
    {
     "name": "stdout",
     "output_type": "stream",
     "text": [
      "Table of  7\n",
      "7* 1 = 7\n",
      "7* 2 = 14\n",
      "7* 3 = 21\n",
      "7* 4 = 28\n",
      "7* 5 = 35\n",
      "7* 6 = 42\n",
      "7* 7 = 49\n",
      "7* 8 = 56\n",
      "7* 9 = 63\n",
      "7* 10 = 70\n"
     ]
    }
   ],
   "source": [
    "n=7\n",
    "print(\"Table of \",n)\n",
    "for i in range (1,11):\n",
    "    num=n*i\n",
    "    \n",
    "    print(\"7*\",i,\"=\",num)\n",
    "    if num==n*10:\n",
    "        break\n",
    "        \n",
    "        \n"
   ]
  },
  {
   "cell_type": "markdown",
   "id": "6754912f",
   "metadata": {},
   "source": [
    "### ques-- 6 Write a program to determine how many of the numbers between 1 and 10000 contain the digit 3.\""
   ]
  },
  {
   "cell_type": "code",
   "execution_count": 18,
   "id": "581b4159",
   "metadata": {},
   "outputs": [
    {
     "name": "stdout",
     "output_type": "stream",
     "text": [
      "3439\n"
     ]
    }
   ],
   "source": [
    "count=0\n",
    "number=1\n",
    "while number <=10000:\n",
    "    for digit in str(number):\n",
    "        if digit == '3':\n",
    "            count +=1\n",
    "            break\n",
    "    number +=1\n",
    "print(count)\n"
   ]
  },
  {
   "cell_type": "code",
   "execution_count": null,
   "id": "c8fb446e",
   "metadata": {},
   "outputs": [],
   "source": []
  },
  {
   "cell_type": "markdown",
   "id": "caeb917a",
   "metadata": {},
   "source": [
    "### ques-- 7 Given a string s, s.index('x') returns the index of the first x in s and an error if there is no x.((a) Write a program that asks the user for a string and a letter. Using a while loop, the program should print the index of the first occurrence of that letter and a message if the string does not contain the letter.) ((b) Write the above program using a for/break loop instead of a while loop)\""
   ]
  },
  {
   "cell_type": "code",
   "execution_count": 9,
   "id": "3ee4a311",
   "metadata": {},
   "outputs": [
    {
     "name": "stdout",
     "output_type": "stream",
     "text": [
      "enter a stringanuj\n",
      "enter a lettera\n",
      "the index of the frist string'a'in the string is: 0\n"
     ]
    }
   ],
   "source": [
    "string=input(\"enter a string : \")\n",
    "letter=input(\"enter a letter : \")\n",
    "index=0\n",
    "found=False\n",
    "while index<len(string):\n",
    "    if string[index]== letter:\n",
    "        found=True\n",
    "        break\n",
    "    index+=1\n",
    "if found:\n",
    "    print(f\"the index of the frist string'{letter}'in the string is: {index}\")\n",
    "else:\n",
    "    print(f\"the string does not contain the letter'{letter}'.\")"
   ]
  },
  {
   "cell_type": "code",
   "execution_count": 14,
   "id": "53167d9d",
   "metadata": {},
   "outputs": [
    {
     "name": "stdout",
     "output_type": "stream",
     "text": [
      "enter a string =123anuj\n",
      " enter a lettera\n",
      "enter a sentance those strat with alphabates : \n",
      "a\n"
     ]
    }
   ],
   "source": [
    "str1=(input(\"enter a string =\"))\n",
    "letter=input(\" enter a letter\")\n",
    "index=0\n",
    "found=False\n",
    "if str1[0].isalpha():\n",
    "    while index<len(str1):\n",
    "        if str1[index]==letter:\n",
    "            found=True\n",
    "            print({letter},{index})\n",
    "            break\n",
    "        index +=1\n",
    "else:\n",
    "    print(\"enter a sentance those strat with alphabates : \")\n",
    "           \n",
    "if not found:\n",
    "    print(letter)"
   ]
  },
  {
   "cell_type": "code",
   "execution_count": 22,
   "id": "79f7db13",
   "metadata": {},
   "outputs": [
    {
     "name": "stdout",
     "output_type": "stream",
     "text": [
      "Enter a string: 122 anuj\n",
      "enter a lettera\n",
      "enter a string those start with alphabates \n"
     ]
    }
   ],
   "source": [
    "s = input(\"Enter a string: \")\n",
    "letter =input(\"enter a letter\")\n",
    "a=(len(s))\n",
    "# For loop to find the letter\n",
    "if s[0].isalpha():\n",
    "    for index,char in enumerate(s):\n",
    "        if char == letter:\n",
    "            print(f\"The index of the first occurrence of the letter '{letter}' is: {index}\")\n",
    "            break\n",
    "    else:\n",
    "        print(f\"The string does not contain the letter '{letter}'.\")\n",
    "else:\n",
    "    print(\"enter a string those start with alphabates \")"
   ]
  },
  {
   "cell_type": "markdown",
   "id": "e9f14279",
   "metadata": {},
   "source": [
    "### ques--8  Write a program to calculate the sum of first 10 number using for loop.\""
   ]
  },
  {
   "cell_type": "code",
   "execution_count": 9,
   "id": "9be47440",
   "metadata": {},
   "outputs": [
    {
     "name": "stdout",
     "output_type": "stream",
     "text": [
      "count = 1\n",
      "count = 2\n",
      "count = 3\n",
      "count = 4\n",
      "count = 5\n",
      "count = 6\n",
      "count = 7\n",
      "count = 8\n",
      "count = 9\n",
      "count = 10\n",
      "sum of first 10 number :  55\n",
      "Progrsm completed.\n"
     ]
    }
   ],
   "source": [
    "count = 0\n",
    "\n",
    "sum = 0\n",
    "\n",
    "for count in range(1,11):\n",
    "    print ('count =',count)\n",
    "    count += 1\n",
    "    sum += count-1\n",
    "    \n",
    "print ('sum of first 10 number : ',sum)\n",
    "\n",
    "print ('Progrsm completed.')\n",
    "  "
   ]
  },
  {
   "cell_type": "markdown",
   "id": "81787e1f",
   "metadata": {},
   "source": [
    "### \" ques--9 Write a program that computes the factorial of a number. The factorial, n!, of a number n is the product of all the integers between 1 and n, including n.\""
   ]
  },
  {
   "cell_type": "code",
   "execution_count": 22,
   "id": "2ce57147",
   "metadata": {},
   "outputs": [
    {
     "name": "stdout",
     "output_type": "stream",
     "text": [
      "enter tyhe number5\n",
      "The factorial of 5 is: 120\n"
     ]
    }
   ],
   "source": [
    "def factorial(n):\n",
    "    if n < 0:\n",
    "        return \"Factorial is not defined for negative numbers.\"\n",
    "    elif n == 0:\n",
    "        return 1\n",
    "    else:\n",
    "        result = 1\n",
    "        for i in range(1, n + 1):\n",
    "            result *= i\n",
    "        return result\n",
    "\n",
    "# Example usage:\n",
    "number = int(input('enter tyhe number'))  # Replace 5 with any non-negative integer\n",
    "print(f\"The factorial of {number} is: {factorial(number)}\")"
   ]
  },
  {
   "cell_type": "code",
   "execution_count": 24,
   "id": "34a73dd3",
   "metadata": {},
   "outputs": [
    {
     "name": "stdout",
     "output_type": "stream",
     "text": [
      "Enter a number: 5\n",
      "The factorial of 5 is: 120\n",
      "Program Completed.\n"
     ]
    }
   ],
   "source": [
    "num = int(input(\"Enter a number: \"))\n",
    "\n",
    "\n",
    "factorial = 1\n",
    "\n",
    "for i in range(1, num + 1):\n",
    "    factorial *= i\n",
    "\n",
    "print(f\"The factorial of {num} is: {factorial}\")\n",
    "\n",
    "print('Program Completed.')"
   ]
  },
  {
   "cell_type": "markdown",
   "id": "caee49bb",
   "metadata": {},
   "source": [
    "### ques-- 10 Adding certain numbers to their reversals sometimes produces a palindromic number. For instance, 241 + 142 = 383. Sometimes, we have to repeat the process. For instance, 84 + 48 = 132 and 132 + 231 = 363. Write a program that finds both two-digit numbers for which this process must be repeated more than 20 times to obtain a palindromic number.\""
   ]
  },
  {
   "cell_type": "code",
   "execution_count": 8,
   "id": "1a864a08",
   "metadata": {},
   "outputs": [
    {
     "name": "stdout",
     "output_type": "stream",
     "text": [
      "enter the 2 digits number:89\n",
      "187\n",
      "968\n",
      "1837\n",
      "9218\n",
      "17347\n",
      "91718\n",
      "173437\n",
      "907808\n",
      "1716517\n",
      "8872688\n",
      "17735476\n",
      "85189247\n",
      "159487405\n",
      "664272356\n",
      "1317544822\n",
      "3602001953\n",
      "7193004016\n",
      "13297007933\n",
      "47267087164\n",
      "93445163438\n",
      "176881317877\n",
      "955594506548\n",
      "1801200002107\n",
      "8813200023188\n",
      "8813200023188 is a palindrome\n"
     ]
    }
   ],
   "source": [
    "num=input(\"enter the 2 digits number:\")\n",
    "count=num\n",
    "while True:\n",
    "    str_num=str(num)\n",
    "    rev_num=str_num[::-1]\n",
    "    if str_num==rev_num:\n",
    "        print(num,\"is a palindrome\")\n",
    "        break\n",
    "    num=int(str_num)+int(rev_num)\n",
    "    print(num)"
   ]
  },
  {
   "cell_type": "code",
   "execution_count": 7,
   "id": "e142df1b",
   "metadata": {},
   "outputs": [
    {
     "name": "stdout",
     "output_type": "stream",
     "text": [
      "Two-digit number: 89\n",
      "Two-digit number: 98\n",
      "Program completed.\n"
     ]
    }
   ],
   "source": [
    "\n",
    "count = 0\n",
    "\n",
    "for i in range(10, 100):\n",
    "    num = i\n",
    "    repeat_count = 0\n",
    "    while repeat_count <= 20:\n",
    "        num = num + int(str(num)[::-1])\n",
    "        if str(num) == str(num)[::-1]:\n",
    "            break\n",
    "        repeat_count += 1\n",
    "\n",
    "    if repeat_count > 20:\n",
    "        print(\"Two-digit number:\", i)\n",
    "\n",
    "print(\"Program completed.\")"
   ]
  },
  {
   "cell_type": "markdown",
   "id": "6daec8a9",
   "metadata": {},
   "source": [
    "### ques--11  What is the difference between break and continue statement. Provide the solution with coding examples\""
   ]
  },
  {
   "cell_type": "code",
   "execution_count": 28,
   "id": "671f01eb",
   "metadata": {},
   "outputs": [
    {
     "name": "stdout",
     "output_type": "stream",
     "text": [
      "1\n",
      "3\n",
      "6\n",
      "10\n",
      "15\n",
      "21\n",
      "28\n",
      "36\n",
      "45\n",
      "55\n"
     ]
    }
   ],
   "source": [
    "total=0\n",
    "for i in range (1,11):\n",
    "    total += i\n",
    "    print(total)\n",
    "    # but continue statement work with both condition true or flase.it is print the vanlu\n",
    "    continue"
   ]
  },
  {
   "cell_type": "code",
   "execution_count": 29,
   "id": "4447682c",
   "metadata": {},
   "outputs": [
    {
     "name": "stdout",
     "output_type": "stream",
     "text": [
      "1\n"
     ]
    }
   ],
   "source": [
    "total=0\n",
    "for i in range (1,11):\n",
    "    total += i\n",
    "    print(total)\n",
    "    # if we are use break statement.break statement with a true condition .it will not print the value after true condition just like that\n",
    "    break\n",
    "    "
   ]
  },
  {
   "cell_type": "markdown",
   "id": "fe1f9f82",
   "metadata": {},
   "source": [
    "###  ques-- 12 Write a program to calculate the interest rate is 3%, compound interest of each month increases by 0.4 up to 12 months and loan of 1,00,00.\""
   ]
  },
  {
   "cell_type": "code",
   "execution_count": 30,
   "id": "a1ded88b",
   "metadata": {},
   "outputs": [
    {
     "name": "stdout",
     "output_type": "stream",
     "text": [
      "month :  1 -- compound interest :  340.0\n",
      "month :  2 -- compound interest :  774.44\n",
      "month :  3 -- compound interest :  1313.661\n",
      "month :  4 -- compound interest :  1970.898\n",
      "month :  5 -- compound interest :  2762.816\n",
      "month :  6 -- compound interest :  3710.196\n",
      "month :  7 -- compound interest :  4838.83\n",
      "month :  8 -- compound interest :  6180.656\n",
      "month :  9 -- compound interest :  7775.214\n",
      "month :  10 -- compound interest :  9671.514\n",
      "month :  11 -- compound interest :  11930.427\n",
      "month :  12 -- compound interest :  14627.772\n",
      "program is completed\n"
     ]
    }
   ],
   "source": [
    "p=10000\n",
    "rate=3\n",
    "time_limit=12\n",
    "month=1\n",
    "while month<=time_limit:\n",
    "    rate+=0.4\n",
    "    amount=p*(1+rate/100)**month\n",
    "    ci=amount-p\n",
    "    print(\"month : \",month,\"--\",\"compound interest : \",round(ci,3))\n",
    "    month+=1\n",
    "print(\"program is completed\")"
   ]
  },
  {
   "cell_type": "markdown",
   "id": "3b06c4c3",
   "metadata": {},
   "source": [
    "###  ques--13 Write a program that lets the user play Rock-Paper-Scissors against the computer. In that program there were exactly five rounds. Rewrite the program so that it is a best 3 out of 5. That is, the first player to win three times is the winner\""
   ]
  },
  {
   "cell_type": "code",
   "execution_count": 31,
   "id": "0961092e",
   "metadata": {},
   "outputs": [
    {
     "name": "stdout",
     "output_type": "stream",
     "text": [
      "Let's play Rock-Paper-Scissors! First player to win three times is the winner.\n",
      "Enter your choice (rock, paper, or scissors): paper\n",
      "You chose: paper\n",
      "Computer chose: scissors\n",
      "Computer wins!\n",
      "Enter your choice (rock, paper, or scissors): rock\n",
      "You chose: rock\n",
      "Computer chose: scissors\n",
      "You win!\n",
      "Enter your choice (rock, paper, or scissors): scissiors\n",
      "Invalid choice. Please enter rock, paper, or scissors.\n",
      "Enter your choice (rock, paper, or scissors): paper\n",
      "You chose: paper\n",
      "Computer chose: paper\n",
      "It's a tie!\n",
      "Enter your choice (rock, paper, or scissors): rock\n",
      "You chose: rock\n",
      "Computer chose: rock\n",
      "It's a tie!\n",
      "Enter your choice (rock, paper, or scissors): scissors\n",
      "You chose: scissors\n",
      "Computer chose: paper\n",
      "You win!\n",
      "Enter your choice (rock, paper, or scissors): rock\n",
      "You chose: rock\n",
      "Computer chose: scissors\n",
      "You win!\n",
      "Enter your choice (rock, paper, or scissors): rock\n",
      "You chose: rock\n",
      "Computer chose: scissors\n",
      "You win!\n",
      "Enter your choice (rock, paper, or scissors): rock\n",
      "You chose: rock\n",
      "Computer chose: paper\n",
      "Computer wins!\n",
      "Enter your choice (rock, paper, or scissors): \n",
      "Invalid choice. Please enter rock, paper, or scissors.\n"
     ]
    },
    {
     "ename": "KeyboardInterrupt",
     "evalue": "Interrupted by user",
     "output_type": "error",
     "traceback": [
      "\u001b[1;31m---------------------------------------------------------------------------\u001b[0m",
      "\u001b[1;31mKeyboardInterrupt\u001b[0m                         Traceback (most recent call last)",
      "Cell \u001b[1;32mIn[31], line 13\u001b[0m\n\u001b[0;32m     11\u001b[0m \u001b[38;5;28;01mwhile\u001b[39;00m user_choice \u001b[38;5;129;01mnot\u001b[39;00m \u001b[38;5;129;01min\u001b[39;00m [\u001b[38;5;124m\"\u001b[39m\u001b[38;5;124mrock\u001b[39m\u001b[38;5;124m\"\u001b[39m, \u001b[38;5;124m\"\u001b[39m\u001b[38;5;124mpaper\u001b[39m\u001b[38;5;124m\"\u001b[39m, \u001b[38;5;124m\"\u001b[39m\u001b[38;5;124mscissors\u001b[39m\u001b[38;5;124m\"\u001b[39m]:\n\u001b[0;32m     12\u001b[0m     \u001b[38;5;28mprint\u001b[39m(\u001b[38;5;124m\"\u001b[39m\u001b[38;5;124mInvalid choice. Please enter rock, paper, or scissors.\u001b[39m\u001b[38;5;124m\"\u001b[39m)\n\u001b[1;32m---> 13\u001b[0m     user_choice \u001b[38;5;241m=\u001b[39m \u001b[38;5;28minput\u001b[39m(\u001b[38;5;124m\"\u001b[39m\u001b[38;5;124mEnter your choice (rock, paper, or scissors): \u001b[39m\u001b[38;5;124m\"\u001b[39m)\u001b[38;5;241m.\u001b[39mlower()\n\u001b[0;32m     15\u001b[0m computer_choice \u001b[38;5;241m=\u001b[39m [\u001b[38;5;124m\"\u001b[39m\u001b[38;5;124mrock\u001b[39m\u001b[38;5;124m\"\u001b[39m, \u001b[38;5;124m\"\u001b[39m\u001b[38;5;124mpaper\u001b[39m\u001b[38;5;124m\"\u001b[39m, \u001b[38;5;124m\"\u001b[39m\u001b[38;5;124mscissors\u001b[39m\u001b[38;5;124m\"\u001b[39m][(\u001b[38;5;28mround\u001b[39m(\u001b[38;5;28mhash\u001b[39m(\u001b[38;5;28mstr\u001b[39m(round_number)) \u001b[38;5;241m*\u001b[39m \u001b[38;5;241m1000\u001b[39m)) \u001b[38;5;241m%\u001b[39m \u001b[38;5;241m3\u001b[39m]\n\u001b[0;32m     17\u001b[0m \u001b[38;5;28mprint\u001b[39m(\u001b[38;5;124m\"\u001b[39m\u001b[38;5;124mYou chose:\u001b[39m\u001b[38;5;124m\"\u001b[39m, user_choice)\n",
      "File \u001b[1;32m~\\anaconda3\\Lib\\site-packages\\ipykernel\\kernelbase.py:1202\u001b[0m, in \u001b[0;36mKernel.raw_input\u001b[1;34m(self, prompt)\u001b[0m\n\u001b[0;32m   1200\u001b[0m     msg \u001b[38;5;241m=\u001b[39m \u001b[38;5;124m\"\u001b[39m\u001b[38;5;124mraw_input was called, but this frontend does not support input requests.\u001b[39m\u001b[38;5;124m\"\u001b[39m\n\u001b[0;32m   1201\u001b[0m     \u001b[38;5;28;01mraise\u001b[39;00m StdinNotImplementedError(msg)\n\u001b[1;32m-> 1202\u001b[0m \u001b[38;5;28;01mreturn\u001b[39;00m \u001b[38;5;28mself\u001b[39m\u001b[38;5;241m.\u001b[39m_input_request(\n\u001b[0;32m   1203\u001b[0m     \u001b[38;5;28mstr\u001b[39m(prompt),\n\u001b[0;32m   1204\u001b[0m     \u001b[38;5;28mself\u001b[39m\u001b[38;5;241m.\u001b[39m_parent_ident[\u001b[38;5;124m\"\u001b[39m\u001b[38;5;124mshell\u001b[39m\u001b[38;5;124m\"\u001b[39m],\n\u001b[0;32m   1205\u001b[0m     \u001b[38;5;28mself\u001b[39m\u001b[38;5;241m.\u001b[39mget_parent(\u001b[38;5;124m\"\u001b[39m\u001b[38;5;124mshell\u001b[39m\u001b[38;5;124m\"\u001b[39m),\n\u001b[0;32m   1206\u001b[0m     password\u001b[38;5;241m=\u001b[39m\u001b[38;5;28;01mFalse\u001b[39;00m,\n\u001b[0;32m   1207\u001b[0m )\n",
      "File \u001b[1;32m~\\anaconda3\\Lib\\site-packages\\ipykernel\\kernelbase.py:1245\u001b[0m, in \u001b[0;36mKernel._input_request\u001b[1;34m(self, prompt, ident, parent, password)\u001b[0m\n\u001b[0;32m   1242\u001b[0m \u001b[38;5;28;01mexcept\u001b[39;00m \u001b[38;5;167;01mKeyboardInterrupt\u001b[39;00m:\n\u001b[0;32m   1243\u001b[0m     \u001b[38;5;66;03m# re-raise KeyboardInterrupt, to truncate traceback\u001b[39;00m\n\u001b[0;32m   1244\u001b[0m     msg \u001b[38;5;241m=\u001b[39m \u001b[38;5;124m\"\u001b[39m\u001b[38;5;124mInterrupted by user\u001b[39m\u001b[38;5;124m\"\u001b[39m\n\u001b[1;32m-> 1245\u001b[0m     \u001b[38;5;28;01mraise\u001b[39;00m \u001b[38;5;167;01mKeyboardInterrupt\u001b[39;00m(msg) \u001b[38;5;28;01mfrom\u001b[39;00m \u001b[38;5;28;01mNone\u001b[39;00m\n\u001b[0;32m   1246\u001b[0m \u001b[38;5;28;01mexcept\u001b[39;00m \u001b[38;5;167;01mException\u001b[39;00m:\n\u001b[0;32m   1247\u001b[0m     \u001b[38;5;28mself\u001b[39m\u001b[38;5;241m.\u001b[39mlog\u001b[38;5;241m.\u001b[39mwarning(\u001b[38;5;124m\"\u001b[39m\u001b[38;5;124mInvalid Message:\u001b[39m\u001b[38;5;124m\"\u001b[39m, exc_info\u001b[38;5;241m=\u001b[39m\u001b[38;5;28;01mTrue\u001b[39;00m)\n",
      "\u001b[1;31mKeyboardInterrupt\u001b[0m: Interrupted by user"
     ]
    }
   ],
   "source": [
    "user_score = 0\n",
    "computer_score = 0\n",
    "rounds_to_win = 3\n",
    "\n",
    "print(\"Let's play Rock-Paper-Scissors! First player to win three times is the winner.\")\n",
    "\n",
    "while user_score < rounds_to_win and computer_score < rounds_to_win:\n",
    "    round_number = 0\n",
    "    while round_number < 5:\n",
    "        user_choice = input(\"Enter your choice (rock, paper, or scissors): \").lower()\n",
    "        while user_choice not in [\"rock\", \"paper\", \"scissors\"]:\n",
    "            print(\"Invalid choice. Please enter rock, paper, or scissors.\")\n",
    "            user_choice = input(\"Enter your choice (rock, paper, or scissors): \").lower()\n",
    "\n",
    "        computer_choice = [\"rock\", \"paper\", \"scissors\"][(round(hash(str(round_number)) * 1000)) % 3]\n",
    "\n",
    "        print(\"You chose:\", user_choice)\n",
    "        print(\"Computer chose:\", computer_choice)\n",
    "\n",
    "        if user_choice == computer_choice:\n",
    "            print(\"It's a tie!\")\n",
    "        elif (user_choice == \"rock\" and computer_choice == \"scissors\") or \\\n",
    "             (user_choice == \"paper\" and computer_choice == \"rock\") or \\\n",
    "             (user_choice == \"scissors\" and computer_choice == \"paper\"):\n",
    "            print(\"You win!\")\n",
    "            user_score += 1\n",
    "        else:\n",
    "            print(\"Computer wins!\")\n",
    "            computer_score += 1\n",
    "        \n",
    "        round_number += 1\n",
    "\n",
    "if user_score > computer_score:\n",
    "    print(\"Congratulations! You won the game!\")\n",
    "else:\n",
    "    print(\"Sorry, computer won the game!\")\n",
    "print('Program completed.')"
   ]
  },
  {
   "cell_type": "markdown",
   "id": "fb42d9a1",
   "metadata": {},
   "source": [
    "### ques-- 14  Write a program to print to find the sum of series .1 + 2 + 6 + 24 +120 … n terms.\""
   ]
  },
  {
   "cell_type": "code",
   "execution_count": 1,
   "id": "0d62dd1e",
   "metadata": {},
   "outputs": [
    {
     "name": "stdout",
     "output_type": "stream",
     "text": [
      "enter thart number you want find sum of series : 5\n",
      "153\n"
     ]
    }
   ],
   "source": [
    "num=int(input(\"enter thart number you want find sum of series : \"))\n",
    "sum_series=0\n",
    "factorial=1\n",
    "for i in range(1,num+1):\n",
    "    factorial*=i\n",
    "    sum_series+=factorial\n",
    "print(sum_series)"
   ]
  },
  {
   "cell_type": "markdown",
   "id": "6c605384",
   "metadata": {},
   "source": [
    "### ques 15 What is the nested loop explain by using an example\""
   ]
  },
  {
   "cell_type": "code",
   "execution_count": 3,
   "id": "170124b5",
   "metadata": {},
   "outputs": [
    {
     "name": "stdout",
     "output_type": "stream",
     "text": [
      "1 / 1 == 1.0\n",
      "1 / 2 == 0.5\n",
      "1 / 3 == 0.3\n",
      "2 / 1 == 2.0\n",
      "2 / 2 == 1.0\n",
      "2 / 3 == 0.7\n",
      "2 / 4 == 0.5\n",
      "2 / 5 == 0.4\n",
      "2 / 6 == 0.3\n",
      "3 / 1 == 3.0\n",
      "3 / 2 == 1.5\n",
      "3 / 3 == 1.0\n",
      "3 / 4 == 0.8\n",
      "3 / 5 == 0.6\n",
      "3 / 6 == 0.5\n",
      "4 / 1 == 4.0\n",
      "4 / 2 == 2.0\n",
      "4 / 3 == 1.3\n",
      "4 / 4 == 1.0\n",
      "4 / 5 == 0.8\n",
      "4 / 6 == 0.7\n",
      "5 / 1 == 5.0\n",
      "5 / 2 == 2.5\n",
      "5 / 3 == 1.7\n",
      "5 / 4 == 1.2\n",
      "5 / 5 == 1.0\n",
      "5 / 6 == 0.8\n",
      " program is comppleted\n"
     ]
    }
   ],
   "source": [
    "# a loop create with in loop statements is called nested loop\n",
    "for i in range(1,6):\n",
    "    for j in range(1,7):\n",
    "        div=round(i/j,1)\n",
    "        if div==0.2:\n",
    "            break\n",
    "        else:\n",
    "            print(i,\"/\",j,\"==\",div)\n",
    "print(\" program is comppleted\")\n",
    "        "
   ]
  },
  {
   "cell_type": "code",
   "execution_count": null,
   "id": "137774ed",
   "metadata": {},
   "outputs": [],
   "source": []
  },
  {
   "cell_type": "code",
   "execution_count": null,
   "id": "8c272241",
   "metadata": {},
   "outputs": [],
   "source": []
  }
 ],
 "metadata": {
  "kernelspec": {
   "display_name": "Python 3 (ipykernel)",
   "language": "python",
   "name": "python3"
  },
  "language_info": {
   "codemirror_mode": {
    "name": "ipython",
    "version": 3
   },
   "file_extension": ".py",
   "mimetype": "text/x-python",
   "name": "python",
   "nbconvert_exporter": "python",
   "pygments_lexer": "ipython3",
   "version": "3.11.5"
  }
 },
 "nbformat": 4,
 "nbformat_minor": 5
}
