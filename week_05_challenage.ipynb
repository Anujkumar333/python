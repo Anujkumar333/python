{
 "cells": [
  {
   "cell_type": "markdown",
   "id": "3526ecdf",
   "metadata": {},
   "source": [
    " ## 1 Write a function that takes the lengths of the two shorter sides of a right triangle as its parameters. Return the hypotenuse of the triangle, computed using Pythagorean theorem, as the function’s result."
   ]
  },
  {
   "cell_type": "code",
   "execution_count": 35,
   "id": "8f411294",
   "metadata": {},
   "outputs": [
    {
     "name": "stdout",
     "output_type": "stream",
     "text": [
      "enter the first shorted side : 12\n",
      "enter the second shorted side : 5\n"
     ]
    },
    {
     "data": {
      "text/plain": [
       "13.0"
      ]
     },
     "execution_count": 35,
     "metadata": {},
     "output_type": "execute_result"
    }
   ],
   "source": [
    "def sqr(n):\n",
    "    num=n*n\n",
    "    return(num)\n",
    "def sqrt(n):\n",
    "    num=n**0.5\n",
    "    return (num)\n",
    "def hypo(s1,s2):\n",
    "    hypo=sqrt(sqr(s1)+sqr(s2))\n",
    "    return (hypo)\n",
    "sd1=int(input(\"enter the first shorted side : \"))\n",
    "sd2=int(input(\"enter the second shorted side : \"))\n",
    "hypotenious=hypo(sd1,sd2)\n",
    "hypotenious"
   ]
  },
  {
   "cell_type": "markdown",
   "id": "5f660f19",
   "metadata": {},
   "source": [
    "## 2 An online retailer provides express shipping for many of its items at a rate of $10.95 for the first item, and $2.95 for each subsequent item. Write a function that takes the number of items in the order as its only parameter. Return the shipping charge for the order as the function’s result. Include a main program that reads the number of items purchased from the user and displays the shipping charge."
   ]
  },
  {
   "cell_type": "code",
   "execution_count": 39,
   "id": "b8bd1ff0",
   "metadata": {},
   "outputs": [
    {
     "name": "stdout",
     "output_type": "stream",
     "text": [
      "enter no of item : 2\n",
      "13.899999999999999\n"
     ]
    }
   ],
   "source": [
    "def charng(item):\n",
    "    if item==0:\n",
    "        return (0)\n",
    "    else:\n",
    "        return 10.95+(item-1)*2.95\n",
    "no_item=int(input(\"enter no of item : \"))\n",
    "print(charng(no_item))"
   ]
  },
  {
   "cell_type": "markdown",
   "id": "c40f3110",
   "metadata": {},
   "source": [
    "### 3 Write a function that takes three numbers as parameters, and returns the median value of those parameters as its result. Include a main program that reads three values from the user and displays their median"
   ]
  },
  {
   "cell_type": "code",
   "execution_count": null,
   "id": "356341f9",
   "metadata": {},
   "outputs": [],
   "source": [
    "def median(s1,s2,s3):\n",
    "    med=[s1,s2,s3]\n",
    "    med.sort()\n",
    "    return med[1]"
   ]
  },
  {
   "cell_type": "code",
   "execution_count": null,
   "id": "c45d9b4c",
   "metadata": {},
   "outputs": [],
   "source": [
    "#s1=float(input(\"enter a first number\"))\n",
    "#s2=float(input(\"enter a second number\"))\n",
    "#s3=float(input(\"enter a third number\"))\n",
    "md=median(1.2,2.2,4.3)\n",
    "md\n"
   ]
  },
  {
   "cell_type": "code",
   "execution_count": null,
   "id": "96e9b84a",
   "metadata": {},
   "outputs": [],
   "source": []
  },
  {
   "cell_type": "markdown",
   "id": "963fa09e",
   "metadata": {},
   "source": [
    "### 4 Write a function that determines whether or not three lengths can form a triangle. The function will take 3 parameters and return a Boolean result. In addition, write a program that reads 3 lengths from the user and demonstrates the behavior of this function. In general, if any one length is greater than or equal to the sum of the other two then the lengths cannot be used to form a triangle. Otherwise they can form a triangle."
   ]
  },
  {
   "cell_type": "code",
   "execution_count": null,
   "id": "618030fb",
   "metadata": {},
   "outputs": [],
   "source": []
  },
  {
   "cell_type": "code",
   "execution_count": 1,
   "id": "62b0f089",
   "metadata": {},
   "outputs": [
    {
     "name": "stdout",
     "output_type": "stream",
     "text": [
      "Enter the first length of triangle : 12\n",
      "Enter the second length of triangle : 12\n",
      "Enter the third length of triangle : 12\n",
      "Yes, these length make a triangle\n"
     ]
    }
   ],
   "source": [
    "l1=input(\"Enter the first length of triangle : \")\n",
    "l2=input(\"Enter the second length of triangle : \")\n",
    "l3=input(\"Enter the third length of triangle : \")\n",
    "def triangle(l1,l2,l3):\n",
    "    if l1 >= l2+l3 or l2 >=l3+l1 or l3>=l2+l1:\n",
    "        return False\n",
    "    else:\n",
    "        True\n",
    "triangle(l1,l2,l3)\n",
    "if triangle(l1,l2,l3)==True:\n",
    "    print(\"These length cannot make any triangle\")\n",
    "else:\n",
    "    print(\"Yes, these length make a triangle\")"
   ]
  },
  {
   "cell_type": "markdown",
   "id": "21351001",
   "metadata": {},
   "source": [
    "### 5 In this exercise you will write a function named isInteger that determines whether or not the characters in a string represent a valid integer. When determining if a string represents an integer you should ignore any leading or trailing white space. Once this white space is ignored, a string represents an integer if its length is at least 1 and it only contains digits, or if its first character is either + or - and the first character is followed by one or more characters, all of which are digits. Write a main program that reads a string from the user and reports whether or not it represents an integer."
   ]
  },
  {
   "cell_type": "code",
   "execution_count": 1,
   "id": "babaecb2",
   "metadata": {},
   "outputs": [
    {
     "name": "stdout",
     "output_type": "stream",
     "text": [
      "Enter a string :anuj\n",
      "string is not start with integer\n"
     ]
    }
   ],
   "source": [
    "n=input(\"Enter a string :\")\n",
    "def isinteger(n):\n",
    "    n=n.strip()\n",
    "    if n.isdigit():\n",
    "        return True\n",
    "    if n[0] in \"+-\" and n[1].isdigit():\n",
    "        return True\n",
    "if isinteger(n):\n",
    "    print(\"string starts with a integer\")\n",
    "else:\n",
    "    print(\"string is not start with integer\")"
   ]
  },
  {
   "cell_type": "code",
   "execution_count": null,
   "id": "3556014b",
   "metadata": {},
   "outputs": [],
   "source": []
  },
  {
   "cell_type": "code",
   "execution_count": null,
   "id": "2b5e7b6b",
   "metadata": {},
   "outputs": [],
   "source": []
  },
  {
   "cell_type": "code",
   "execution_count": null,
   "id": "bd59c476",
   "metadata": {},
   "outputs": [],
   "source": []
  },
  {
   "cell_type": "code",
   "execution_count": null,
   "id": "fa9d61c6",
   "metadata": {},
   "outputs": [],
   "source": []
  },
  {
   "cell_type": "markdown",
   "id": "265a2885",
   "metadata": {},
   "source": [
    "### 6 In this exercise you will create a function named nextPrime that finds and returns the first prime number larger than some integer, n. The value of n will be passed to the function as its only parameter. Include a main program that reads an integer from the user and displays the first prime number larger than the entered value.\n",
    " "
   ]
  },
  {
   "cell_type": "code",
   "execution_count": 2,
   "id": "0bc83eb9",
   "metadata": {},
   "outputs": [
    {
     "name": "stdout",
     "output_type": "stream",
     "text": [
      "enter an interger : 3\n",
      "5\n"
     ]
    }
   ],
   "source": [
    "### we are define a funcation to check num is prime or not\n",
    "def is_prime(num):\n",
    "    if num<=1:\n",
    "        return False\n",
    "    for i in range(2,int(num**0.5)+1):\n",
    "        if num % i==0:\n",
    "            return False\n",
    "    return True\n",
    "# This function finds and returns the first prime number larger than the input integer n\n",
    "def nextPrime(n):\n",
    "    next_prime = n+1\n",
    "    while True:\n",
    "        if is_prime(next_prime):\n",
    "            return next_prime\n",
    "        next_prime +=1\n",
    "n=int(input(\"enter an interger : \"))\n",
    "print(nextPrime(n))"
   ]
  },
  {
   "cell_type": "markdown",
   "id": "a124d966",
   "metadata": {},
   "source": [
    "### 7 In this exercise you will write a function that determines whether or not a password is good. We will define a good password to be a one that is at least 8 characters long and contains at least one uppercase letter, at least one lowercase letter, and at least one number. Your function should return true if the password passed to it as its only parameter is good. Otherwise it should return false. Include a main program that reads a password from the user and reports whether or not it is good.\n",
    " "
   ]
  },
  {
   "cell_type": "code",
   "execution_count": 45,
   "id": "d248b2f8",
   "metadata": {},
   "outputs": [
    {
     "name": "stdout",
     "output_type": "stream",
     "text": [
      "Enter a password :Anuj1kumar\n",
      "it is a good passwotd\n",
      "None\n"
     ]
    }
   ],
   "source": [
    "def good_password(password):\n",
    "    if len(password)< 8:\n",
    "        return False\n",
    "    has_upper=any(char.isupper() for char in password )\n",
    "    has_lower=any(char.islower() for char in password )\n",
    "    has_number=any(char.isdigit() for char in password )\n",
    "    return has_upper and has_lower and has_number\n",
    "## we are check the function it take TRUE  Fales\n",
    "\n",
    "def gp(n):\n",
    "    n=input(\"Enter a password :\")\n",
    "    if good_password(n):\n",
    "        print(\"it is a good password\")\n",
    "    else:\n",
    "        print(\"it not a good password\")\n",
    "print(gp(n))\n"
   ]
  },
  {
   "cell_type": "code",
   "execution_count": null,
   "id": "58835d4a",
   "metadata": {},
   "outputs": [],
   "source": []
  },
  {
   "cell_type": "markdown",
   "id": "b96ae3e4",
   "metadata": {},
   "source": [
    "### 8 Write a program that reads values from the user until a blank line is entered. Display the total of all of the values entered by the user (or 0.0 if the first value entered is a blank line). Complete this task using recursion. Your program may not use any loops. The body of your recursive function will need to read one value from the user, and then determine whether or not to make a recursive call. Your function does not need to take any parameters, but it will need to return a numeric result."
   ]
  },
  {
   "cell_type": "code",
   "execution_count": 9,
   "id": "89e69e71",
   "metadata": {},
   "outputs": [
    {
     "name": "stdout",
     "output_type": "stream",
     "text": [
      "enter a number(exite enter a blank): 1223\n",
      "enter a number(exite enter a blank): 62\n",
      "enter a number(exite enter a blank): 15\n",
      "enter a number(exite enter a blank): 2\n",
      "enter a number(exite enter a blank): 56\n",
      "enter a number(exite enter a blank): 612\n",
      "enter a number(exite enter a blank): 583\n",
      "enter a number(exite enter a blank): 25\n",
      "enter a number(exite enter a blank): 25\n",
      "enter a number(exite enter a blank): 25\n",
      "enter a number(exite enter a blank): 25\n",
      "enter a number(exite enter a blank): \n",
      "total sum of the intergers by given by the user =  2653.0\n"
     ]
    }
   ],
   "source": [
    "def tsum():\n",
    "    user=input(\"enter a number(exite enter a blank): \")\n",
    "    if user=='':\n",
    "        return 0.0\n",
    "    else:\n",
    "        return float(user)+tsum()\n",
    "total=tsum()\n",
    "print(\"total sum of the intergers by given by the user = \",total)"
   ]
  },
  {
   "cell_type": "code",
   "execution_count": null,
   "id": "3b3e12a7",
   "metadata": {},
   "outputs": [],
   "source": []
  },
  {
   "cell_type": "markdown",
   "id": "14235190",
   "metadata": {},
   "source": [
    "### 9 In this exercise you will write a recursive function that determines whether or not a string is a palindrome. The empty string is a palindrome, as is any string containing only one character. Any longer string is a palindrome if its first and last characters match, and if the string formed by removing the first and last characters is also a palindrome. Write a main program that reads a string from the user. Use your recursive function to determine whether or not the string is a palindrome. Then display an appropriate message for the user."
   ]
  },
  {
   "cell_type": "code",
   "execution_count": 12,
   "id": "e39d4006",
   "metadata": {},
   "outputs": [
    {
     "name": "stdout",
     "output_type": "stream",
     "text": [
      "False\n"
     ]
    }
   ],
   "source": [
    "def is_palindrome(s):\n",
    "    if len(s)<=1:\n",
    "        return True\n",
    "    elif s[0]!=s[-1]:\n",
    "        return False\n",
    "    else:\n",
    "        return is_palindrome(s[1:-1])\n",
    " \n",
    "    "
   ]
  },
  {
   "cell_type": "code",
   "execution_count": 15,
   "id": "50638cf6",
   "metadata": {},
   "outputs": [
    {
     "name": "stdout",
     "output_type": "stream",
     "text": [
      "enter a string : anuj\n",
      "string is not a palidrome\n"
     ]
    }
   ],
   "source": [
    "\n",
    "s=input(\"enter a string : \")\n",
    "if is_palindrome(s):\n",
    "    print('srting is palindrome')\n",
    "else:\n",
    "    print(\"string is not a palidrome\")\n",
    "\n"
   ]
  },
  {
   "cell_type": "code",
   "execution_count": null,
   "id": "099b3563",
   "metadata": {},
   "outputs": [],
   "source": []
  },
  {
   "cell_type": "code",
   "execution_count": null,
   "id": "d28e9a3a",
   "metadata": {},
   "outputs": [],
   "source": []
  },
  {
   "cell_type": "markdown",
   "id": "0ebab459",
   "metadata": {},
   "source": [
    "### 10 Write a function that takes a list of strings as its only parameter. Your function should return a string that contains all of the items in the list formatted in the manner described previously as its only result. While the examples shown previously only include lists containing four elements or less, your function should behave correctly for lists of any length. Include a main program that reads several items from the user, formats them by calling your function, and then displays the result returned by the function. Consider the following four lists:\n",
    "\n",
    "#### apples\n",
    "\n",
    "#### apples and oranges\n",
    "\n",
    "#### apples, oranges and bananas\n",
    "\n",
    "#### apples, oranges, bananas and lemons"
   ]
  },
  {
   "cell_type": "code",
   "execution_count": 25,
   "id": "bba4cf21",
   "metadata": {},
   "outputs": [],
   "source": [
    "def format_list(string):\n",
    "    if len(string)==0:\n",
    "        return \"\"\n",
    "    elif len(string)==1:\n",
    "        return string[0]\n",
    "    elif len(string)==2:\n",
    "        return string[0]+\",and\"+ string[1]\n",
    "    else:\n",
    "        formated=\",\".join(string[:-1])+\",and\"+string[-1]"
   ]
  },
  {
   "cell_type": "code",
   "execution_count": 32,
   "id": "79128e25",
   "metadata": {},
   "outputs": [
    {
     "name": "stdout",
     "output_type": "stream",
     "text": [
      "apples\n",
      "apples and oranges\n",
      "apples, oranges and bananas\n",
      "apples, orange, bananas and lemons\n"
     ]
    }
   ],
   "source": [
    "lists=[['apples'],['apples','oranges'],['apples','oranges','bananas'],['apples','orange','bananas','lemons']]\n",
    "for lst in lists:\n",
    "    format_lst=format_list(lst)\n",
    "    print(format_lst)\n"
   ]
  },
  {
   "cell_type": "code",
   "execution_count": 31,
   "id": "ceaaa706",
   "metadata": {},
   "outputs": [
    {
     "name": "stdout",
     "output_type": "stream",
     "text": [
      "apples\n",
      "\n",
      "apples and oranges\n",
      "\n",
      "apples,oranges and Bananas\n",
      "\n",
      "apples,oranges,Bananas and Lemons\n"
     ]
    }
   ],
   "source": [
    "def fruits(slist):\n",
    "    if len(slist)==1:\n",
    "            print(slist[0])\n",
    "    elif len(slist)>0:\n",
    "        for i in range(len(slist)-1):\n",
    "            if i==len(slist)-2:\n",
    "                break\n",
    "            print(slist[i],end=\",\")\n",
    "        print(slist[len(slist)-2],'and',slist[len(slist)-1])\n",
    "        \n",
    "\n",
    "\n",
    "slist=[\"apples\"]\n",
    "fruits(slist)\n",
    "print()\n",
    "slist=[\"apples\",\"oranges\"]\n",
    "fruits(slist)\n",
    "print()\n",
    "slist=[\"apples\",\"oranges\",\"Bananas\"]\n",
    "fruits(slist)\n",
    "print()\n",
    "slist=[\"apples\",\"oranges\",\"Bananas\",\"Lemons\"]\n",
    "fruits(slist)"
   ]
  },
  {
   "cell_type": "code",
   "execution_count": null,
   "id": "c7b48199",
   "metadata": {},
   "outputs": [],
   "source": []
  },
  {
   "cell_type": "code",
   "execution_count": null,
   "id": "8593a47a",
   "metadata": {},
   "outputs": [],
   "source": []
  }
 ],
 "metadata": {
  "kernelspec": {
   "display_name": "Python 3 (ipykernel)",
   "language": "python",
   "name": "python3"
  },
  "language_info": {
   "codemirror_mode": {
    "name": "ipython",
    "version": 3
   },
   "file_extension": ".py",
   "mimetype": "text/x-python",
   "name": "python",
   "nbconvert_exporter": "python",
   "pygments_lexer": "ipython3",
   "version": "3.11.5"
  }
 },
 "nbformat": 4,
 "nbformat_minor": 5
}
