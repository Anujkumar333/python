{
 "cells": [
  {
   "cell_type": "markdown",
   "id": "2753e454",
   "metadata": {},
   "source": [
    "##### 1. A set contains names which begin either with A or with B. Write a program to separate the names into two sets, one containing names beginning with A and the other containing names beginning with B"
   ]
  },
  {
   "cell_type": "code",
   "execution_count": 1,
   "id": "edaab69a",
   "metadata": {},
   "outputs": [],
   "source": [
    "set1={\"anuj\",\"annu\",\"anup\",\"bhanu\",\"bhupesh\"}\n"
   ]
  },
  {
   "cell_type": "code",
   "execution_count": 2,
   "id": "257e36f1",
   "metadata": {},
   "outputs": [
    {
     "name": "stdout",
     "output_type": "stream",
     "text": [
      "setA   :  {'annu', 'anup', 'anuj'}\n",
      "setB   : {'bhupesh', 'bhanu'}\n"
     ]
    }
   ],
   "source": [
    "setA=set()\n",
    "setB=set()\n",
    "for i in set1:\n",
    "    if i.startswith(\"a\"):\n",
    "        setA.add(i)\n",
    "    elif i.startswith(\"b\") :\n",
    "        setB.add(i)\n",
    "print(\"setA   : \",setA)\n",
    "print(\"setB   :\",setB)\n"
   ]
  },
  {
   "cell_type": "markdown",
   "id": "cfb62902",
   "metadata": {},
   "source": [
    "##### 2. Create a list of tuples. Each tuple should contain an item and its price in float. Write a program to print each item and its price in a proper format"
   ]
  },
  {
   "cell_type": "code",
   "execution_count": 6,
   "id": "60ff27a6",
   "metadata": {},
   "outputs": [
    {
     "name": "stdout",
     "output_type": "stream",
     "text": [
      "<class 'list'>\n",
      "item   price   rate\n",
      "orange : 21.1 : 12\n",
      "mango : 50.03 : 5\n",
      "kiwi : 40.12 : 9\n"
     ]
    }
   ],
   "source": [
    "t1=[(\"orange\",21.1,12),(\"mango\",50.03,5),(\"kiwi\",40.12,9)]\n",
    "print(type(t1))\n",
    "print(\"item\",\" \",\"price\",\" \",\"rate\")\n",
    "for item,price,rate in t1:\n",
    "    print(item,\":\",price,\":\",rate)"
   ]
  },
  {
   "cell_type": "markdown",
   "id": "780e8f91",
   "metadata": {},
   "source": [
    "##### 3. Write a program that reads integers from the user and stores them in a list. Your program should continue reading values until the user enters 0. Then it should display all of the values entered by the user (except for the 0) in order from smallest to largest, with one value appearing on each line. Use either the sort method or the sorted function to sort t"
   ]
  },
  {
   "cell_type": "code",
   "execution_count": 26,
   "id": "b9d45c0c",
   "metadata": {},
   "outputs": [
    {
     "name": "stdout",
     "output_type": "stream",
     "text": [
      "enter another number(0_for quit) : 1\n",
      "enter another number(0_for quit) : 2\n",
      "enter another number(0_for quit) : 3\n",
      "enter another number(0_for quit) : 0\n",
      "sorted list =  [1, 2, 3]\n"
     ]
    }
   ],
   "source": [
    "v=-1\n",
    "lst=list()\n",
    "while v!=0:\n",
    "    v=int(input(\"enter another number(0_for quit) : \"))\n",
    "    if v!=0:\n",
    "        lst.append(v)\n",
    "        \n",
    "print(\"sorted list = \",sorted(lst))    "
   ]
  },
  {
   "cell_type": "code",
   "execution_count": null,
   "id": "38164c46",
   "metadata": {},
   "outputs": [],
   "source": []
  },
  {
   "cell_type": "markdown",
   "id": "cdc66de6",
   "metadata": {},
   "source": [
    "###### 4. Write a program to read a list of numbers from the user and remove the two largest and two smallest values from it. Display the list with the values removed, followed by the original list. Your program should generate an appropriate error message if the user enters less than 5 values."
   ]
  },
  {
   "cell_type": "code",
   "execution_count": 3,
   "id": "a9702fa1",
   "metadata": {},
   "outputs": [
    {
     "name": "stdout",
     "output_type": "stream",
     "text": [
      "Enter a list of numbers separated by spaces: 12 11 32 42 45 05 12 6 \n",
      "List with the values removed: [11, 12, 12, 32]\n",
      "Original list: [12, 11, 32, 42, 45, 5, 12, 6]\n"
     ]
    }
   ],
   "source": [
    "def remove_values(lst):\n",
    "    if len(lst) < 5:\n",
    "        return \"Error: Please enter at least 5 values.\"\n",
    "    else:\n",
    "        sorted_lst = sorted(lst)\n",
    "        # Remove the two largest and two smallest values\n",
    "        return sorted_lst[2:-2], lst\n",
    "\n",
    "# Read a list of numbers from the user\n",
    "user_input = input(\"Enter a list of numbers separated by spaces: \")\n",
    "number_list = [int(num) for num in user_input.split()]\n",
    "\n",
    "# Process the list\n",
    "new_list, original_list = remove_values(number_list)\n",
    "\n",
    "# Display the results\n",
    "if isinstance(new_list, list):\n",
    "    print(\"List with the values removed:\", new_list)\n",
    "    print(\"Original list:\", original_list)\n",
    "else:\n",
    "    print(new_list)  # Display error message"
   ]
  },
  {
   "cell_type": "markdown",
   "id": "dce22557",
   "metadata": {},
   "source": [
    "###### 5. In this exercise, you will create a program that reads words from the user until the user enters a blank line. After the user enters a blank line your program should display each word entered by the user exactly once."
   ]
  },
  {
   "cell_type": "code",
   "execution_count": 30,
   "id": "df2d064c",
   "metadata": {},
   "outputs": [
    {
     "name": "stdout",
     "output_type": "stream",
     "text": [
      "enter a string : 12\n",
      "enter a string : \n",
      "please enter a vailed string\n",
      "12\n"
     ]
    }
   ],
   "source": [
    "words=set()\n",
    "while True:\n",
    "    word=input(\"enter a string : \")\n",
    "    if word == \"\":\n",
    "        print(\"please enter a vailed string\")\n",
    "        break\n",
    "    else:\n",
    "        words.add(word)\n",
    "        \n",
    "for word in words:\n",
    "    print(word)"
   ]
  },
  {
   "cell_type": "markdown",
   "id": "f0816bab",
   "metadata": {},
   "source": [
    "###### 6. Write a program that reads numbers from the user until a 0 is entered. Your program should display the average of all of the values entered by the user. Then the program should display all of the below average values, followed by all of the average values (if any), followed by all of the above average values. An appropriate label should be displayed before each list of values"
   ]
  },
  {
   "cell_type": "code",
   "execution_count": 1,
   "id": "13994dea",
   "metadata": {},
   "outputs": [
    {
     "name": "stdout",
     "output_type": "stream",
     "text": [
      "enter another number(0_for quit) : 45\n",
      "enter another number(0_for quit) : 55\n",
      "enter another number(0_for quit) : 0\n",
      "avg = 50.0\n",
      "sorted list =  [45, 55]\n",
      "A list contain the value is greater then avg value = [55]\n",
      "A list contain the value is less then avg value = [45]\n",
      "2\n",
      "1\n",
      "1\n"
     ]
    }
   ],
   "source": [
    "max_avg=list()\n",
    "min_avg=list()\n",
    "v=-1\n",
    "lst=list()\n",
    "while v!=0:\n",
    "    v=int(input(\"enter another number(0_for quit) : \"))\n",
    "    if v!=0:\n",
    "        lst.append(v)\n",
    "        avg=(sum(lst)/len(lst))\n",
    "for i in lst:\n",
    "    if i>avg:\n",
    "        max_avg.append(i)\n",
    "    elif i < avg:\n",
    "            min_avg.append(i)\n",
    "\n",
    "print(\"avg =\",avg)        \n",
    "print(\"sorted list = \",sorted(lst))\n",
    "print(\"A list contain the value is greater then avg value =\",max_avg)\n",
    "print(\"A list contain the value is less then avg value =\",min_avg)\n",
    "print(len(lst))\n",
    "print(len(max_avg))\n",
    "print(len(min_avg))"
   ]
  },
  {
   "cell_type": "markdown",
   "id": "4db4686d",
   "metadata": {},
   "source": [
    "###### 7. Create a program that determines and displays the number of unique characters in a string entered by the user. For example, Hello World! has 9 unique characters while zzz has only one unique character. Use a dictionary to solve this problem"
   ]
  },
  {
   "cell_type": "code",
   "execution_count": 83,
   "id": "d62c978d",
   "metadata": {},
   "outputs": [
    {
     "name": "stdout",
     "output_type": "stream",
     "text": [
      "enter a string : anujj kumaj jung\n",
      "8\n"
     ]
    }
   ],
   "source": [
    "user_input=input(\"enter a string : \")\n",
    "chary={}\n",
    "for i in user_input:\n",
    "    if i not in chary:\n",
    "        chary[i]=1\n",
    "print(len(chary))"
   ]
  },
  {
   "cell_type": "markdown",
   "id": "bd70f18a",
   "metadata": {},
   "source": [
    "###### 8. Two words are anagrams if they contain all of the same letters, but in a different order. For example, “evil” and “live” are anagrams because each contains one e, one i, one l, and one v. Create a program that reads two strings from the user, determines whether or not they are anagrams, and reports the result."
   ]
  },
  {
   "cell_type": "code",
   "execution_count": 8,
   "id": "a9f81e8d",
   "metadata": {},
   "outputs": [
    {
     "name": "stdout",
     "output_type": "stream",
     "text": [
      "enter the first word(d'not give any space)   :evil\n",
      "enter the second word (d'not give any space) :live\n",
      "Both word are anagrams\n",
      "evil\n",
      "live\n"
     ]
    }
   ],
   "source": [
    "first_word=input(\"enter the first word(d'not give any space)   :\")\n",
    "second_word=input(\"enter the second word (d'not give any space) :\")\n",
    "first_word=first_word.replace(\" \",\" \").lower()\n",
    "second_word=second_word.replace(\" \",\" \").lower()\n",
    "if sorted(first_word)==sorted(second_word):\n",
    "    print(\"Both word are anagrams\")\n",
    "else:\n",
    "        print(\"Both are not anagram\")\n",
    "print(first_word)\n",
    "print(second_word)"
   ]
  },
  {
   "cell_type": "markdown",
   "id": "b0ea172e",
   "metadata": {},
   "source": [
    "###### 9. An integer, n, is said to be perfect when the sum of all of the proper divisors of n is equal to n. For example, 28 is a perfect number because its proper divisors are 1, 2, 4, 7 and 14, and 1 + 2 + 4 + 7 + 14 = 28. Write a program that determines whether or not a positive integer is perfect. Your program will accept a number from the user. If that number is a perfect number then your program will display true. Otherwise it will display false."
   ]
  },
  {
   "cell_type": "code",
   "execution_count": 70,
   "id": "5495d383",
   "metadata": {},
   "outputs": [],
   "source": [
    "def perfect_no(n):\n",
    "    divisior=[i for i in range(1,n) if n % i == 0]\n",
    "    return n ==sum(divisior)"
   ]
  },
  {
   "cell_type": "code",
   "execution_count": 74,
   "id": "1ca4dc39",
   "metadata": {},
   "outputs": [
    {
     "name": "stdout",
     "output_type": "stream",
     "text": [
      "enter a number : 10\n",
      "False\n"
     ]
    }
   ],
   "source": [
    "number=int(input(\"enter a number : \"))\n",
    "print(perfect_no(number))"
   ]
  },
  {
   "cell_type": "code",
   "execution_count": null,
   "id": "78c6add6",
   "metadata": {},
   "outputs": [],
   "source": [
    "\n",
    "\n",
    "     "
   ]
  },
  {
   "cell_type": "markdown",
   "id": "5fa8d3ed",
   "metadata": {},
   "source": [
    "##### 10. Write a program that finds all of the keys in a dictionary that map to a specific value. The program will take the value to search for as its input. It will display a (possibly empty) list of keys from the dictionary that map to the provided value."
   ]
  },
  {
   "cell_type": "code",
   "execution_count": 13,
   "id": "a02e1f06",
   "metadata": {},
   "outputs": [],
   "source": [
    "# it is a user difine funcation that help to find key\n",
    "def find_key(dict_word,find_value):\n",
    "    key_list=[key for key,value in dict_word.items() if value==find_value]\n",
    "    return key_list"
   ]
  },
  {
   "cell_type": "code",
   "execution_count": 14,
   "id": "66f7bb2d",
   "metadata": {},
   "outputs": [
    {
     "name": "stdout",
     "output_type": "stream",
     "text": [
      "['anuj', 'ankit']\n"
     ]
    }
   ],
   "source": [
    "my_dict={\"anuj\":1,\"ankit\":1,\"sameer\":2,\"aman\":3,\"suraj\":4}\n",
    "value=1\n",
    "print(find_key(my_dict,value))"
   ]
  },
  {
   "cell_type": "code",
   "execution_count": null,
   "id": "4e1a7df5",
   "metadata": {},
   "outputs": [],
   "source": []
  }
 ],
 "metadata": {
  "kernelspec": {
   "display_name": "Python 3 (ipykernel)",
   "language": "python",
   "name": "python3"
  },
  "language_info": {
   "codemirror_mode": {
    "name": "ipython",
    "version": 3
   },
   "file_extension": ".py",
   "mimetype": "text/x-python",
   "name": "python",
   "nbconvert_exporter": "python",
   "pygments_lexer": "ipython3",
   "version": "3.11.5"
  }
 },
 "nbformat": 4,
 "nbformat_minor": 5
}
